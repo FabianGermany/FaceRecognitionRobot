{
 "cells": [
  {
   "cell_type": "markdown",
   "id": "c85956e5",
   "metadata": {},
   "source": [
    "## Information"
   ]
  },
  {
   "cell_type": "code",
   "execution_count": null,
   "id": "4b42a77c",
   "metadata": {},
   "outputs": [],
   "source": [
    "# https://github.com/timesler/facenet-pytorch\n",
    "# https://github.com/timesler/facenet-pytorch/blob/master/examples/face_tracking.ipynb"
   ]
  },
  {
   "cell_type": "markdown",
   "id": "fab7f5a8",
   "metadata": {},
   "source": [
    "## Packages"
   ]
  },
  {
   "cell_type": "code",
   "execution_count": null,
   "id": "8993cc33",
   "metadata": {},
   "outputs": [],
   "source": [
    "from facenet_pytorch import MTCNN, InceptionResnetV1\n",
    "import torch\n",
    "import numpy as np\n",
    "import mmcv, cv2\n",
    "from PIL import Image, ImageDraw\n",
    "from IPython import display"
   ]
  },
  {
   "cell_type": "markdown",
   "id": "67d15789",
   "metadata": {},
   "source": [
    "## Further Steps"
   ]
  },
  {
   "cell_type": "markdown",
   "id": "0b6a1f4a",
   "metadata": {},
   "source": [
    "### Determine if an nvidia GPU is available¶\n"
   ]
  },
  {
   "cell_type": "code",
   "execution_count": null,
   "id": "cefd9fc2",
   "metadata": {},
   "outputs": [],
   "source": [
    "device = torch.device('cuda:0' if torch.cuda.is_available() else 'cpu')\n",
    "print('Running on device: {}'.format(device))"
   ]
  },
  {
   "cell_type": "markdown",
   "id": "74ce6b60",
   "metadata": {},
   "source": [
    "## Define MTCNN module"
   ]
  },
  {
   "cell_type": "code",
   "execution_count": null,
   "id": "56b5083e",
   "metadata": {},
   "outputs": [],
   "source": [
    "mtcnn = MTCNN(keep_all=True, device=device)"
   ]
  },
  {
   "cell_type": "markdown",
   "id": "967cf836",
   "metadata": {},
   "source": [
    "## If required, create a face detection pipeline using MTCNN:"
   ]
  },
  {
   "cell_type": "code",
   "execution_count": null,
   "id": "9fde23d7",
   "metadata": {},
   "outputs": [],
   "source": [
    "mtcnn = MTCNN() #mtcnn = MTCNN(image_size=<image_size>, margin=<margin>)\n"
   ]
  },
  {
   "cell_type": "markdown",
   "id": "00ba7e6d",
   "metadata": {},
   "source": [
    "## Create an inception resnet (in eval mode):"
   ]
  },
  {
   "cell_type": "code",
   "execution_count": null,
   "id": "013cce2e",
   "metadata": {},
   "outputs": [],
   "source": [
    "resnet = InceptionResnetV1(pretrained='vggface2').eval()"
   ]
  },
  {
   "cell_type": "markdown",
   "id": "8e3c8b05",
   "metadata": {},
   "source": [
    "##Open image"
   ]
  },
  {
   "cell_type": "code",
   "execution_count": null,
   "id": "1aabab40",
   "metadata": {},
   "outputs": [],
   "source": [
    "img = Image.open(\"input/image_example.jpg\")"
   ]
  },
  {
   "cell_type": "markdown",
   "id": "44527d13",
   "metadata": {},
   "source": [
    "## Get cropped and prewhitened image tensor"
   ]
  },
  {
   "cell_type": "code",
   "execution_count": null,
   "id": "6be71a10",
   "metadata": {},
   "outputs": [],
   "source": [
    "img_cropped = mtcnn(img, save_path=\"output/cropped_image.jpg\")"
   ]
  },
  {
   "cell_type": "markdown",
   "id": "bcd835cf",
   "metadata": {},
   "source": [
    "## Calculate embedding (unsqueeze to add batch dimension)"
   ]
  },
  {
   "cell_type": "code",
   "execution_count": null,
   "id": "3cacb6d2",
   "metadata": {},
   "outputs": [],
   "source": [
    "img_embedding = resnet(img_cropped.unsqueeze(0))"
   ]
  },
  {
   "cell_type": "markdown",
   "id": "472d12e8",
   "metadata": {},
   "source": [
    "## Or, if using for VGGFace2 classification"
   ]
  },
  {
   "cell_type": "code",
   "execution_count": null,
   "id": "a9bbed19",
   "metadata": {},
   "outputs": [],
   "source": [
    "resnet.classify = True\n",
    "img_probs = resnet(img_cropped.unsqueeze(0))"
   ]
  },
  {
   "cell_type": "code",
   "execution_count": null,
   "id": "2fb78bbb",
   "metadata": {},
   "outputs": [],
   "source": []
  },
  {
   "cell_type": "code",
   "execution_count": null,
   "id": "ee84a6c6",
   "metadata": {},
   "outputs": [],
   "source": []
  },
  {
   "cell_type": "code",
   "execution_count": null,
   "id": "c34e46dc",
   "metadata": {},
   "outputs": [],
   "source": []
  },
  {
   "cell_type": "code",
   "execution_count": null,
   "id": "01d60258",
   "metadata": {},
   "outputs": [],
   "source": []
  },
  {
   "cell_type": "code",
   "execution_count": null,
   "id": "db917c3d",
   "metadata": {},
   "outputs": [],
   "source": []
  }
 ],
 "metadata": {
  "kernelspec": {
   "display_name": "Python 3",
   "language": "python",
   "name": "python3"
  },
  "language_info": {
   "codemirror_mode": {
    "name": "ipython",
    "version": 3
   },
   "file_extension": ".py",
   "mimetype": "text/x-python",
   "name": "python",
   "nbconvert_exporter": "python",
   "pygments_lexer": "ipython3",
   "version": "3.8.5"
  }
 },
 "nbformat": 4,
 "nbformat_minor": 5
}
