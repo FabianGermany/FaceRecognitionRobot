{
 "cells": [
  {
   "cell_type": "markdown",
   "id": "c85956e5",
   "metadata": {},
   "source": [
    "## Information"
   ]
  },
  {
   "cell_type": "markdown",
   "id": "f0704dd9",
   "metadata": {},
   "source": [
    "[facenet-pytorch](https://github.com/timesler/facenet-pytorch)\n",
    "\n",
    "[face-tracking](https://github.com/timesler/facenet-pytorch/blob/master/examples/face_tracking.ipynb)\n",
    "\n",
    "[use personal data](https://github.com/timesler/facenet-pytorch/blob/master/examples/infer.ipynb)"
   ]
  },
  {
   "cell_type": "markdown",
   "id": "fab7f5a8",
   "metadata": {},
   "source": [
    "## Packages"
   ]
  },
  {
   "cell_type": "code",
   "execution_count": 24,
   "id": "8993cc33",
   "metadata": {},
   "outputs": [],
   "source": [
    "from facenet_pytorch import MTCNN, InceptionResnetV1, fixed_image_standardization, training\n",
    "import torch\n",
    "from torch.utils.data import DataLoader, SubsetRandomSampler\n",
    "from torch import optim\n",
    "from torch.optim.lr_scheduler import MultiStepLR\n",
    "from torch.utils.tensorboard import SummaryWriter\n",
    "from torchvision import datasets, transforms\n",
    "import numpy as np\n",
    "import pandas as pd\n",
    "import os"
   ]
  },
  {
   "cell_type": "markdown",
   "id": "03a7a786",
   "metadata": {},
   "source": [
    "## Define run parameters "
   ]
  },
  {
   "cell_type": "code",
   "execution_count": null,
   "id": "1184e0f1",
   "metadata": {},
   "outputs": [],
   "source": [
    "data_dir = 'data'\n",
    "\n",
    "batch_size = 32\n",
    "epochs = 8\n",
    "workers = 0 if os.name == 'nt' else 8"
   ]
  },
  {
   "cell_type": "code",
   "execution_count": null,
   "id": "3154d8b8",
   "metadata": {},
   "outputs": [],
   "source": [
    "## Determine if an nvidia GPU is available¶"
   ]
  },
  {
   "cell_type": "code",
   "execution_count": 25,
   "id": "17c8f4e1",
   "metadata": {},
   "outputs": [
    {
     "name": "stdout",
     "output_type": "stream",
     "text": [
      "Running on device: cpu\n"
     ]
    }
   ],
   "source": [
    "device = torch.device('cuda:0' if torch.cuda.is_available() else 'cpu')\n",
    "print('Running on device: {}'.format(device))"
   ]
  },
  {
   "cell_type": "markdown",
   "id": "07ccd97c",
   "metadata": {},
   "source": [
    "## Define MTCNN module"
   ]
  },
  {
   "cell_type": "code",
   "execution_count": 26,
   "id": "c8fbb436",
   "metadata": {},
   "outputs": [],
   "source": [
    "mtcnn = MTCNN(\n",
    "    image_size=160, margin=0, min_face_size=20,\n",
    "    thresholds=[0.6, 0.7, 0.7], factor=0.709, post_process=True,\n",
    "    device=device\n",
    ")"
   ]
  },
  {
   "cell_type": "markdown",
   "id": "8a68fe1f",
   "metadata": {},
   "source": [
    "## Perfom MTCNN facial detection "
   ]
  },
  {
   "cell_type": "code",
   "execution_count": 30,
   "id": "3f96c028",
   "metadata": {},
   "outputs": [],
   "source": [
    "dataset = datasets.ImageFolder(data_dir, transform=transforms.Resize((512, 512)))\n",
    "dataset.samples = [\n",
    "    (p, p.replace(data_dir, data_dir + '_cropped'))\n",
    "        for p, _ in dataset.samples\n",
    "]\n",
    "        \n",
    "loader = DataLoader(\n",
    "    dataset,\n",
    "    num_workers=workers,\n",
    "    batch_size=batch_size,\n",
    "    collate_fn=training.collate_pil\n",
    ")\n",
    "\n",
    "for i, (x, y) in enumerate(loader):\n",
    "    mtcnn(x, save_path=y)\n",
    "    print('\\rBatch {} of {}'.format(i + 1, len(loader)), end='')\n",
    "    \n",
    "# Remove mtcnn to reduce GPU memory usage\n",
    "del mtcnn\n",
    "\n"
   ]
  },
  {
   "cell_type": "markdown",
   "id": "718bb88e",
   "metadata": {},
   "source": [
    "## Define Inception Resnet V1 module¶ "
   ]
  },
  {
   "cell_type": "code",
   "execution_count": 31,
   "id": "c4990078",
   "metadata": {},
   "outputs": [],
   "source": [
    "resnet = InceptionResnetV1(\n",
    "    classify=True,\n",
    "    pretrained='vggface2',\n",
    "    num_classes=len(dataset.class_to_idx)\n",
    ").to(device)"
   ]
  },
  {
   "cell_type": "markdown",
   "id": "acd2ea43",
   "metadata": {},
   "source": [
    "## Define optimizer, scheduler, dataset, and dataloader¶"
   ]
  },
  {
   "cell_type": "code",
   "execution_count": 32,
   "id": "fd398d1d",
   "metadata": {},
   "outputs": [],
   "source": [
    "optimizer = optim.Adam(resnet.parameters(), lr=0.001)\n",
    "scheduler = MultiStepLR(optimizer, [5, 10])\n",
    "\n",
    "trans = transforms.Compose([\n",
    "    np.float32,\n",
    "    transforms.ToTensor(),\n",
    "    fixed_image_standardization\n",
    "])\n",
    "dataset = datasets.ImageFolder(data_dir + '_cropped', transform=trans)\n",
    "img_inds = np.arange(len(dataset))\n",
    "np.random.shuffle(img_inds)\n",
    "train_inds = img_inds[:int(0.8 * len(img_inds))]\n",
    "val_inds = img_inds[int(0.8 * len(img_inds)):]\n",
    "\n",
    "train_loader = DataLoader(\n",
    "    dataset,\n",
    "    num_workers=workers,\n",
    "    batch_size=batch_size,\n",
    "    sampler=SubsetRandomSampler(train_inds)\n",
    ")\n",
    "val_loader = DataLoader(\n",
    "    dataset,\n",
    "    num_workers=workers,\n",
    "    batch_size=batch_size,\n",
    "    sampler=SubsetRandomSampler(val_inds)\n",
    ")"
   ]
  },
  {
   "cell_type": "markdown",
   "id": "b5592dc1",
   "metadata": {},
   "source": [
    "## Define loss and evaluation functions"
   ]
  },
  {
   "cell_type": "code",
   "execution_count": 33,
   "id": "71284078",
   "metadata": {},
   "outputs": [
    {
     "name": "stdout",
     "output_type": "stream",
     "text": [
      "Face detected with probability: 0.999994\n",
      "Face detected with probability: 0.999999\n",
      "Face detected with probability: 1.000000\n",
      "Face detected with probability: 0.999988\n",
      "Face detected with probability: 1.000000\n",
      "Face detected with probability: 0.998185\n",
      "Face detected with probability: 0.999998\n",
      "Face detected with probability: 0.999816\n",
      "Face detected with probability: 0.999999\n",
      "Face detected with probability: 0.999992\n",
      "Face detected with probability: 0.999999\n",
      "Face detected with probability: 0.999956\n",
      "Face detected with probability: 0.999983\n",
      "Face detected with probability: 1.000000\n",
      "Face detected with probability: 0.999965\n",
      "Face detected with probability: 1.000000\n",
      "Face detected with probability: 0.999993\n",
      "Face detected with probability: 0.999998\n",
      "Face detected with probability: 0.999942\n",
      "Face detected with probability: 0.998134\n",
      "Face detected with probability: 0.999943\n",
      "Face detected with probability: 0.999982\n",
      "Face detected with probability: 0.999993\n",
      "Face detected with probability: 0.999000\n",
      "Face detected with probability: 0.999998\n",
      "Face detected with probability: 0.999994\n",
      "Face detected with probability: 0.999998\n",
      "Face detected with probability: 0.999998\n",
      "Face detected with probability: 0.966371\n",
      "Face detected with probability: 0.883455\n",
      "Face detected with probability: 0.999957\n",
      "Face detected with probability: 0.999977\n",
      "Face detected with probability: 0.765898\n",
      "Face detected with probability: 1.000000\n",
      "Face detected with probability: 0.999135\n",
      "Face detected with probability: 0.999993\n",
      "Face detected with probability: 0.999786\n",
      "Face detected with probability: 0.999968\n",
      "Face detected with probability: 0.999891\n",
      "Face detected with probability: 0.999962\n",
      "Face detected with probability: 0.950101\n",
      "Face detected with probability: 0.923477\n",
      "Face detected with probability: 0.999965\n",
      "Face detected with probability: 0.999981\n",
      "Face detected with probability: 0.999999\n",
      "Face detected with probability: 0.999999\n",
      "Face detected with probability: 0.999994\n",
      "Face detected with probability: 0.999996\n",
      "Face detected with probability: 0.999967\n",
      "Face detected with probability: 0.999790\n",
      "Face detected with probability: 0.999994\n",
      "Face detected with probability: 0.988760\n",
      "Face detected with probability: 0.999788\n",
      "Face detected with probability: 0.999990\n",
      "Face detected with probability: 0.999936\n",
      "Face detected with probability: 0.999717\n",
      "Face detected with probability: 0.999953\n",
      "Face detected with probability: 0.999950\n",
      "Face detected with probability: 0.998805\n",
      "Face detected with probability: 0.999533\n",
      "Face detected with probability: 0.999867\n",
      "Face detected with probability: 0.999965\n",
      "Face detected with probability: 0.999986\n",
      "Face detected with probability: 0.999997\n",
      "Face detected with probability: 0.999999\n",
      "Face detected with probability: 0.999878\n",
      "Face detected with probability: 0.999999\n",
      "Face detected with probability: 0.998609\n",
      "Face detected with probability: 1.000000\n",
      "Face detected with probability: 1.000000\n",
      "Face detected with probability: 0.999963\n"
     ]
    }
   ],
   "source": [
    "loss_fn = torch.nn.CrossEntropyLoss()\n",
    "metrics = {\n",
    "    'fps': training.BatchTimer(),\n",
    "    'acc': training.accuracy\n",
    "}"
   ]
  },
  {
   "cell_type": "markdown",
   "id": "8532c372",
   "metadata": {},
   "source": [
    "## Train model"
   ]
  },
  {
   "cell_type": "code",
   "execution_count": 36,
   "id": "62b21af4",
   "metadata": {},
   "outputs": [
    {
     "ename": "TypeError",
     "evalue": "stack(): argument 'tensors' (position 1) must be tuple of Tensors, not Tensor",
     "output_type": "error",
     "traceback": [
      "\u001b[1;31m---------------------------------------------------------------------------\u001b[0m",
      "\u001b[1;31mTypeError\u001b[0m                                 Traceback (most recent call last)",
      "\u001b[1;32m<ipython-input-36-165a5ac692a3>\u001b[0m in \u001b[0;36m<module>\u001b[1;34m\u001b[0m\n\u001b[1;32m----> 1\u001b[1;33m \u001b[0maligned\u001b[0m \u001b[1;33m=\u001b[0m \u001b[0mtorch\u001b[0m\u001b[1;33m.\u001b[0m\u001b[0mstack\u001b[0m\u001b[1;33m(\u001b[0m\u001b[0maligned\u001b[0m\u001b[1;33m)\u001b[0m\u001b[1;33m.\u001b[0m\u001b[0mto\u001b[0m\u001b[1;33m(\u001b[0m\u001b[0mdevice\u001b[0m\u001b[1;33m)\u001b[0m\u001b[1;33m\u001b[0m\u001b[1;33m\u001b[0m\u001b[0m\n\u001b[0m\u001b[0;32m      2\u001b[0m \u001b[0membeddings\u001b[0m \u001b[1;33m=\u001b[0m \u001b[0mresnet\u001b[0m\u001b[1;33m(\u001b[0m\u001b[0maligned\u001b[0m\u001b[1;33m)\u001b[0m\u001b[1;33m.\u001b[0m\u001b[0mdetach\u001b[0m\u001b[1;33m(\u001b[0m\u001b[1;33m)\u001b[0m\u001b[1;33m.\u001b[0m\u001b[0mcpu\u001b[0m\u001b[1;33m(\u001b[0m\u001b[1;33m)\u001b[0m\u001b[1;33m\u001b[0m\u001b[1;33m\u001b[0m\u001b[0m\n",
      "\u001b[1;31mTypeError\u001b[0m: stack(): argument 'tensors' (position 1) must be tuple of Tensors, not Tensor"
     ]
    }
   ],
   "source": [
    "writer = SummaryWriter()\n",
    "writer.iteration, writer.interval = 0, 10\n",
    "\n",
    "print('\\n\\nInitial')\n",
    "print('-' * 10)\n",
    "resnet.eval()\n",
    "training.pass_epoch(\n",
    "    resnet, loss_fn, val_loader,\n",
    "    batch_metrics=metrics, show_running=True, device=device,\n",
    "    writer=writer\n",
    ")\n",
    "\n",
    "for epoch in range(epochs):\n",
    "    print('\\nEpoch {}/{}'.format(epoch + 1, epochs))\n",
    "    print('-' * 10)\n",
    "\n",
    "    resnet.train()\n",
    "    training.pass_epoch(\n",
    "        resnet, loss_fn, train_loader, optimizer, scheduler,\n",
    "        batch_metrics=metrics, show_running=True, device=device,\n",
    "        writer=writer\n",
    "    )\n",
    "\n",
    "    resnet.eval()\n",
    "    training.pass_epoch(\n",
    "        resnet, loss_fn, val_loader,\n",
    "        batch_metrics=metrics, show_running=True, device=device,\n",
    "        writer=writer\n",
    "    )\n",
    "\n",
    "writer.close()"
   ]
  }
 ],
 "metadata": {
  "kernelspec": {
   "display_name": "Python 3",
   "language": "python",
   "name": "python3"
  },
  "language_info": {
   "codemirror_mode": {
    "name": "ipython",
    "version": 3
   },
   "file_extension": ".py",
   "mimetype": "text/x-python",
   "name": "python",
   "nbconvert_exporter": "python",
   "pygments_lexer": "ipython3",
   "version": "3.8.5"
  }
 },
 "nbformat": 4,
 "nbformat_minor": 5
}
