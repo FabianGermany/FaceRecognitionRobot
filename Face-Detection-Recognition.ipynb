{
 "cells": [
  {
   "cell_type": "markdown",
   "id": "c85956e5",
   "metadata": {},
   "source": [
    "## Information"
   ]
  },
  {
   "cell_type": "code",
   "execution_count": 1,
   "id": "4b42a77c",
   "metadata": {},
   "outputs": [
    {
     "ename": "SyntaxError",
     "evalue": "invalid syntax (<ipython-input-1-03a9c0ed2ffe>, line 1)",
     "output_type": "error",
     "traceback": [
      "\u001b[1;36m  File \u001b[1;32m\"<ipython-input-1-03a9c0ed2ffe>\"\u001b[1;36m, line \u001b[1;32m1\u001b[0m\n\u001b[1;33m    [facenet-pytorch](https://github.com/timesler/facenet-pytorch)\u001b[0m\n\u001b[1;37m                           ^\u001b[0m\n\u001b[1;31mSyntaxError\u001b[0m\u001b[1;31m:\u001b[0m invalid syntax\n"
     ]
    }
   ],
   "source": [
    "[facenet-pytorch](https://github.com/timesler/facenet-pytorch)\n",
    "\n",
    "[face-tracking](https://github.com/timesler/facenet-pytorch/blob/master/examples/face_tracking.ipynb)"
   ]
  },
  {
   "cell_type": "markdown",
   "id": "fab7f5a8",
   "metadata": {},
   "source": [
    "## Packages"
   ]
  },
  {
   "cell_type": "code",
   "execution_count": 2,
   "id": "8993cc33",
   "metadata": {},
   "outputs": [],
   "source": [
    "from facenet_pytorch import MTCNN, InceptionResnetV1\n",
    "import torch\n",
    "import numpy as np\n",
    "import mmcv, cv2\n",
    "from PIL import Image, ImageDraw\n",
    "from IPython import display"
   ]
  },
  {
   "cell_type": "markdown",
   "id": "6c8bad59",
   "metadata": {},
   "source": [
    "## Further Steps"
   ]
  },
  {
   "cell_type": "markdown",
   "id": "03a7a786",
   "metadata": {},
   "source": [
    "### Determine if an nvidia GPU is available¶\n"
   ]
  },
  {
   "cell_type": "code",
   "execution_count": 3,
   "id": "17c8f4e1",
   "metadata": {},
   "outputs": [
    {
     "name": "stdout",
     "output_type": "stream",
     "text": [
      "Running on device: cpu\n"
     ]
    }
   ],
   "source": [
    "device = torch.device('cuda:0' if torch.cuda.is_available() else 'cpu')\n",
    "print('Running on device: {}'.format(device))"
   ]
  },
  {
   "cell_type": "markdown",
   "id": "07ccd97c",
   "metadata": {},
   "source": [
    "## Define MTCNN module"
   ]
  },
  {
   "cell_type": "code",
   "execution_count": 4,
   "id": "c8fbb436",
   "metadata": {},
   "outputs": [],
   "source": [
    "mtcnn = MTCNN(keep_all=True, device=device)"
   ]
  },
  {
   "cell_type": "markdown",
   "id": "8a68fe1f",
   "metadata": {},
   "source": [
    "## If required, create a face detection pipeline using MTCNN:"
   ]
  },
  {
   "cell_type": "code",
   "execution_count": 5,
   "id": "3f96c028",
   "metadata": {},
   "outputs": [],
   "source": [
    "mtcnn = MTCNN() #mtcnn = MTCNN(image_size=<image_size>, margin=<margin>)\n"
   ]
  },
  {
   "cell_type": "markdown",
   "id": "718bb88e",
   "metadata": {},
   "source": [
    "## Create an inception resnet (in eval mode):"
   ]
  },
  {
   "cell_type": "code",
   "execution_count": null,
   "id": "c4990078",
   "metadata": {},
   "outputs": [],
   "source": [
    "resnet = InceptionResnetV1(pretrained='vggface2').eval()"
   ]
  },
  {
   "cell_type": "markdown",
   "id": "acd2ea43",
   "metadata": {},
   "source": [
    "## Open image"
   ]
  },
  {
   "cell_type": "code",
   "execution_count": null,
   "id": "fd398d1d",
   "metadata": {},
   "outputs": [],
   "source": [
    "img = Image.open(\"input/image_example.jpg\")"
   ]
  },
  {
   "cell_type": "markdown",
   "id": "b5592dc1",
   "metadata": {},
   "source": [
    "## Get cropped and prewhitened image tensor"
   ]
  },
  {
   "cell_type": "code",
   "execution_count": null,
   "id": "71284078",
   "metadata": {},
   "outputs": [],
   "source": [
    "img_cropped = mtcnn(img, save_path=\"output/cropped_image.jpg\")"
   ]
  },
  {
   "cell_type": "markdown",
   "id": "8532c372",
   "metadata": {},
   "source": [
    "## Calculate embedding (unsqueeze to add batch dimension)"
   ]
  },
  {
   "cell_type": "code",
   "execution_count": null,
   "id": "62b21af4",
   "metadata": {},
   "outputs": [],
   "source": [
    "img_embedding = resnet(img_cropped.unsqueeze(0))"
   ]
  },
  {
   "cell_type": "markdown",
   "id": "e827eed4",
   "metadata": {},
   "source": [
    "## Or, if using for VGGFace2 classification"
   ]
  },
  {
   "cell_type": "code",
   "execution_count": null,
   "id": "cecf5f40",
   "metadata": {},
   "outputs": [],
   "source": [
    "resnet.classify = True\n",
    "img_probs = resnet(img_cropped.unsqueeze(0))"
   ]
  },
  {
   "cell_type": "code",
   "execution_count": null,
   "id": "6a64db01",
   "metadata": {},
   "outputs": [],
   "source": []
  },
  {
   "cell_type": "code",
   "execution_count": null,
   "id": "6ed4e440",
   "metadata": {},
   "outputs": [],
   "source": []
  },
  {
   "cell_type": "code",
   "execution_count": null,
   "id": "f5a79772",
   "metadata": {},
   "outputs": [],
   "source": []
  },
  {
   "cell_type": "code",
   "execution_count": null,
   "id": "9e625402",
   "metadata": {},
   "outputs": [],
   "source": []
  },
  {
   "cell_type": "code",
   "execution_count": null,
   "id": "84dfd9b4",
   "metadata": {},
   "outputs": [],
   "source": []
  },
  {
   "cell_type": "code",
   "execution_count": null,
   "id": "c7a98292",
   "metadata": {},
   "outputs": [],
   "source": []
  },
  {
   "cell_type": "code",
   "execution_count": null,
   "id": "20948c85",
   "metadata": {},
   "outputs": [],
   "source": []
  },
  {
   "cell_type": "code",
   "execution_count": null,
   "id": "5fe0cb59",
   "metadata": {},
   "outputs": [],
   "source": []
  },
  {
   "cell_type": "code",
   "execution_count": null,
   "id": "ba756985",
   "metadata": {},
   "outputs": [],
   "source": []
  },
  {
   "cell_type": "code",
   "execution_count": null,
   "id": "00f0744f",
   "metadata": {},
   "outputs": [],
   "source": []
  },
  {
   "cell_type": "code",
   "execution_count": null,
   "id": "d180fad9",
   "metadata": {},
   "outputs": [],
   "source": []
  },
  {
   "cell_type": "code",
   "execution_count": null,
   "id": "0e1628a6",
   "metadata": {},
   "outputs": [],
   "source": []
  },
  {
   "cell_type": "code",
   "execution_count": null,
   "id": "7cfa3067",
   "metadata": {},
   "outputs": [],
   "source": []
  }
 ],
 "metadata": {
  "kernelspec": {
   "display_name": "Python 3",
   "language": "python",
   "name": "python3"
  },
  "language_info": {
   "codemirror_mode": {
    "name": "ipython",
    "version": 3
   },
   "file_extension": ".py",
   "mimetype": "text/x-python",
   "name": "python",
   "nbconvert_exporter": "python",
   "pygments_lexer": "ipython3",
   "version": "3.7.6"
  }
 },
 "nbformat": 4,
 "nbformat_minor": 5
}
