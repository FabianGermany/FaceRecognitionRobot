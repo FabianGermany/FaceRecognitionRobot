{
 "cells": [
  {
   "cell_type": "markdown",
   "id": "c85956e5",
   "metadata": {},
   "source": [
    "## Information"
   ]
  },
  {
   "cell_type": "markdown",
   "id": "wireless-assignment",
   "metadata": {},
   "source": [
    "[facenet-pytorch](https://github.com/timesler/facenet-pytorch)\n",
    "\n",
    "[face-tracking](https://github.com/timesler/facenet-pytorch/blob/master/examples/face_tracking.ipynb)"
   ]
  },
  {
   "cell_type": "markdown",
   "id": "fab7f5a8",
   "metadata": {},
   "source": [
    "## Packages"
   ]
  },
  {
   "cell_type": "code",
   "execution_count": null,
   "id": "8993cc33",
   "metadata": {},
   "outputs": [],
   "source": [
    "from facenet_pytorch import MTCNN, InceptionResnetV1\n",
    "import torch\n",
    "import numpy as np\n",
    "import mmcv, cv2\n",
    "from PIL import Image, ImageDraw\n",
    "from IPython import display"
   ]
  },
  {
   "cell_type": "markdown",
   "id": "752cd5ac",
   "metadata": {},
   "source": [
    "## Further Steps"
   ]
  },
  {
   "cell_type": "markdown",
   "id": "eebb5e75",
   "metadata": {},
   "source": [
    "### Determine if an nvidia GPU is available¶\n"
   ]
  },
  {
   "cell_type": "code",
   "execution_count": null,
   "id": "63700373",
   "metadata": {},
   "outputs": [],
   "source": [
    "device = torch.device('cuda:0' if torch.cuda.is_available() else 'cpu')\n",
    "print('Running on device: {}'.format(device))"
   ]
  },
  {
   "cell_type": "code",
   "execution_count": null,
   "id": "69c6343b",
   "metadata": {},
   "outputs": [],
   "source": []
  },
  {
   "cell_type": "code",
   "execution_count": null,
   "id": "d862eead",
   "metadata": {},
   "outputs": [],
   "source": []
  }
 ],
 "metadata": {
  "kernelspec": {
   "display_name": "Python 3",
   "language": "python",
   "name": "python3"
  },
  "language_info": {
   "codemirror_mode": {
    "name": "ipython",
    "version": 3
   },
   "file_extension": ".py",
   "mimetype": "text/x-python",
   "name": "python",
   "nbconvert_exporter": "python",
   "pygments_lexer": "ipython3",
   "version": "3.8.5"
  }
 },
 "nbformat": 4,
 "nbformat_minor": 5
}
